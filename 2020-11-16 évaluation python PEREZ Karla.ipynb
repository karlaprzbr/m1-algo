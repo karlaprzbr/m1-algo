{
 "cells": [
  {
   "cell_type": "markdown",
   "metadata": {},
   "source": [
    "# Problème 1"
   ]
  },
  {
   "cell_type": "code",
   "execution_count": 21,
   "metadata": {
    "scrolled": true
   },
   "outputs": [
    {
     "name": "stdout",
     "output_type": "stream",
     "text": [
      "Choisissez un nombre:5\n"
     ]
    },
    {
     "data": {
      "text/plain": [
       "25"
      ]
     },
     "execution_count": 21,
     "metadata": {},
     "output_type": "execute_result"
    }
   ],
   "source": [
    "nb = int(input('Choisissez un nombre:'))\n",
    "\n",
    "def carre(nb):\n",
    "    return nb*nb\n",
    "\n",
    "carre(nb)"
   ]
  },
  {
   "cell_type": "markdown",
   "metadata": {},
   "source": [
    "# Problème 2"
   ]
  },
  {
   "cell_type": "code",
   "execution_count": 11,
   "metadata": {},
   "outputs": [
    {
     "name": "stdout",
     "output_type": "stream",
     "text": [
      "Choisissez un nombre:5\n",
      "Choisissez un deuxième nombre:-1\n"
     ]
    },
    {
     "data": {
      "text/plain": [
       "'négatif'"
      ]
     },
     "execution_count": 11,
     "metadata": {},
     "output_type": "execute_result"
    }
   ],
   "source": [
    "def produit():\n",
    "    nb1 = int(input('Choisissez un nombre:'))\n",
    "    nb2 = int(input('Choisissez un deuxième nombre:'))\n",
    "    if nb1*nb2 >=0:\n",
    "        resultat = 'positif'\n",
    "    else:\n",
    "        resultat = 'négatif'\n",
    "    return resultat\n",
    "\n",
    "produit()"
   ]
  },
  {
   "cell_type": "markdown",
   "metadata": {},
   "source": [
    "# Problème 3"
   ]
  },
  {
   "cell_type": "code",
   "execution_count": 15,
   "metadata": {},
   "outputs": [
    {
     "name": "stdout",
     "output_type": "stream",
     "text": [
      "Choisissez un nombre:5\n"
     ]
    },
    {
     "data": {
      "text/plain": [
       "4"
      ]
     },
     "execution_count": 15,
     "metadata": {},
     "output_type": "execute_result"
    }
   ],
   "source": [
    "def somme():\n",
    "    cpt = 0\n",
    "    nb = int(input('Choisissez un nombre:'))\n",
    "    for i in range(1,nb):\n",
    "        cpt += i\n",
    "    return i\n",
    "\n",
    "somme()"
   ]
  },
  {
   "cell_type": "markdown",
   "metadata": {},
   "source": [
    "# Problème 5"
   ]
  },
  {
   "cell_type": "code",
   "execution_count": 17,
   "metadata": {},
   "outputs": [
    {
     "data": {
      "text/plain": [
       "2"
      ]
     },
     "execution_count": 17,
     "metadata": {},
     "output_type": "execute_result"
    }
   ],
   "source": [
    "tab = [95,2,78,688,12]\n",
    "def minimum(tab):\n",
    "    min = tab[0]\n",
    "    for i in tab:\n",
    "        if i < min:\n",
    "            min = i\n",
    "    return min\n",
    "minimum(tab)"
   ]
  },
  {
   "cell_type": "markdown",
   "metadata": {},
   "source": [
    "# Problème 6"
   ]
  },
  {
   "cell_type": "code",
   "execution_count": 24,
   "metadata": {},
   "outputs": [
    {
     "data": {
      "text/plain": [
       "[2, 12, 78, 95, 688]"
      ]
     },
     "execution_count": 24,
     "metadata": {},
     "output_type": "execute_result"
    }
   ],
   "source": [
    "tab = [95,2,78,688,12]\n",
    "def tri(tab):\n",
    "    tab_tri = []\n",
    "    while tab:\n",
    "        min = minimum(tab)\n",
    "        tab_tri.append(min)\n",
    "        tab.remove(min)\n",
    "    return tab_tri\n",
    "tri(tab)"
   ]
  },
  {
   "cell_type": "markdown",
   "metadata": {},
   "source": [
    "# Problème 7"
   ]
  },
  {
   "cell_type": "code",
   "execution_count": 23,
   "metadata": {},
   "outputs": [
    {
     "data": {
      "text/plain": [
       "[9025, 4, 6084, 473344, 144]"
      ]
     },
     "execution_count": 23,
     "metadata": {},
     "output_type": "execute_result"
    }
   ],
   "source": [
    "tab = [95,2,78,688,12]\n",
    "def sqr_lst(tab):\n",
    "    sqr_lst = []\n",
    "    for i in tab:\n",
    "        sqr_lst.append(carre(i))\n",
    "    return sqr_lst\n",
    "\n",
    "sqr_lst(tab)"
   ]
  },
  {
   "cell_type": "markdown",
   "metadata": {},
   "source": [
    "# Problème 10"
   ]
  },
  {
   "cell_type": "markdown",
   "metadata": {},
   "source": [
    "La programmation orientée objet est un principe selon lequel les algorithmes sont structurés avec des classes. Ces classes sont des prototypes ou \"moules\" de nos objets. La classe Chien va permettre d'instancier un nombre infini d'objets chien.\n",
    "\n",
    "L'héritage permet aux classes filles d'hériter d'attributs et de méthodes de la classe mère. La classe mère sera donc plus abstraite car elle aura des attributs et méthodes plus globaux que les classes filles.\n",
    "\n",
    "Le polymorphisme permet aux méthodes d'une classe d'être réécrite par leur classe fille afin de répondre à un besoin particulier. Cette méthode n'aura plus la même fonction.\n",
    "\n",
    "La différence avec la programmation classique dite procédurale est que celle ci consiste seulement en l'exécution d'un seul bloc de code."
   ]
  },
  {
   "cell_type": "code",
   "execution_count": null,
   "metadata": {},
   "outputs": [],
   "source": []
  },
  {
   "cell_type": "code",
   "execution_count": null,
   "metadata": {},
   "outputs": [],
   "source": []
  }
 ],
 "metadata": {
  "kernelspec": {
   "display_name": "Python 3",
   "language": "python",
   "name": "python3"
  },
  "language_info": {
   "codemirror_mode": {
    "name": "ipython",
    "version": 3
   },
   "file_extension": ".py",
   "mimetype": "text/x-python",
   "name": "python",
   "nbconvert_exporter": "python",
   "pygments_lexer": "ipython3",
   "version": "3.8.3"
  }
 },
 "nbformat": 4,
 "nbformat_minor": 4
}
